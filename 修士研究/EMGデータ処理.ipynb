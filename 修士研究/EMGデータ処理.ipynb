{
  "cells": [
    {
      "cell_type": "code",
      "execution_count": null,
      "metadata": {
        "id": "2vDRStyDSLHu",
        "colab": {
          "base_uri": "https://localhost:8080/"
        },
        "outputId": "81c4156c-b104-46fb-e7f0-b0cc9dd2f78f"
      },
      "outputs": [
        {
          "output_type": "stream",
          "name": "stdout",
          "text": [
            "Drive already mounted at /content/drive; to attempt to forcibly remount, call drive.mount(\"/content/drive\", force_remount=True).\n"
          ]
        }
      ],
      "source": [
        "from google.colab import drive\n",
        "drive.mount('/content/drive')"
      ]
    },
    {
      "cell_type": "code",
      "execution_count": null,
      "metadata": {
        "colab": {
          "base_uri": "https://localhost:8080/"
        },
        "id": "zHCzaPeuTNfi",
        "outputId": "a4cdfbd2-eae8-4f1a-e191-e477a5c551b6"
      },
      "outputs": [
        {
          "output_type": "stream",
          "name": "stdout",
          "text": [
            "Requirement already satisfied: japanize_matplotlib in /usr/local/lib/python3.10/dist-packages (1.1.3)\n",
            "Requirement already satisfied: matplotlib in /usr/local/lib/python3.10/dist-packages (from japanize_matplotlib) (3.7.1)\n",
            "Requirement already satisfied: contourpy>=1.0.1 in /usr/local/lib/python3.10/dist-packages (from matplotlib->japanize_matplotlib) (1.2.1)\n",
            "Requirement already satisfied: cycler>=0.10 in /usr/local/lib/python3.10/dist-packages (from matplotlib->japanize_matplotlib) (0.12.1)\n",
            "Requirement already satisfied: fonttools>=4.22.0 in /usr/local/lib/python3.10/dist-packages (from matplotlib->japanize_matplotlib) (4.53.1)\n",
            "Requirement already satisfied: kiwisolver>=1.0.1 in /usr/local/lib/python3.10/dist-packages (from matplotlib->japanize_matplotlib) (1.4.5)\n",
            "Requirement already satisfied: numpy>=1.20 in /usr/local/lib/python3.10/dist-packages (from matplotlib->japanize_matplotlib) (1.26.4)\n",
            "Requirement already satisfied: packaging>=20.0 in /usr/local/lib/python3.10/dist-packages (from matplotlib->japanize_matplotlib) (24.1)\n",
            "Requirement already satisfied: pillow>=6.2.0 in /usr/local/lib/python3.10/dist-packages (from matplotlib->japanize_matplotlib) (9.4.0)\n",
            "Requirement already satisfied: pyparsing>=2.3.1 in /usr/local/lib/python3.10/dist-packages (from matplotlib->japanize_matplotlib) (3.1.2)\n",
            "Requirement already satisfied: python-dateutil>=2.7 in /usr/local/lib/python3.10/dist-packages (from matplotlib->japanize_matplotlib) (2.8.2)\n",
            "Requirement already satisfied: six>=1.5 in /usr/local/lib/python3.10/dist-packages (from python-dateutil>=2.7->matplotlib->japanize_matplotlib) (1.16.0)\n"
          ]
        }
      ],
      "source": [
        "!pip install japanize_matplotlib  # Colab環境にjapanize_matplotlibをインストール\n",
        "# その他のライブラリは、Colabではデフォルトで利用可能\n",
        "\n",
        "import pandas as pd               # データを表のように扱うライブラリ\n",
        "import numpy as np                # 数値計算を速くするライブラリ\n",
        "import seaborn as sns             # きれいなグラフを簡単に作るライブラリ\n",
        "import matplotlib.pyplot as plt   # グラフを作る基本的なライブラリ\n",
        "%matplotlib inline\n",
        "import japanize_matplotlib        # グラフに日本語を表示するライブラリ\n",
        "japanize_matplotlib.japanize()\n",
        "\n",
        "from sklearn.model_selection import train_test_split  # データを学習用とテスト用に分ける\n",
        "from sklearn.metrics import roc_auc_score  # 評価の計算を行うライブラリ\n",
        "from sklearn.preprocessing import StandardScaler  # 標準化の計算を行うライブラリ\n",
        "import lightgbm as lgb\n",
        "\n",
        "import warnings\n",
        "warnings.simplefilter('ignore')  # 不要な警告を表示しない"
      ]
    },
    {
      "cell_type": "code",
      "execution_count": null,
      "metadata": {
        "id": "6T8qLllBTdSM"
      },
      "outputs": [],
      "source": [
        "import pandas as pd\n",
        "from scipy.signal import butter, filtfilt"
      ]
    },
    {
      "cell_type": "code",
      "execution_count": null,
      "metadata": {
        "id": "ra4ZXUIRTjuL"
      },
      "outputs": [],
      "source": [
        "# ファイルを読み込む\n",
        "file_path = '/content/drive/MyDrive/Colab Notebooks/修士研究/★右腕/20240617正規化前/E並列データ収集CSV_0617112236_演算.csv'"
      ]
    },
    {
      "cell_type": "code",
      "execution_count": null,
      "metadata": {
        "id": "y79RX0TYT-Ap"
      },
      "outputs": [],
      "source": [
        "df = pd.read_csv(file_path, encoding='latin-1')  # or try 'iso-8859-1' or 'cp1252'"
      ]
    },
    {
      "cell_type": "code",
      "execution_count": null,
      "metadata": {
        "id": "ZGzxN9EfUQRt"
      },
      "outputs": [],
      "source": [
        "# 第11行目以降を対象とする\n",
        "df_target = df.iloc[10:]"
      ]
    },
    {
      "cell_type": "code",
      "execution_count": null,
      "metadata": {
        "id": "pQumQnaZUUfa"
      },
      "outputs": [],
      "source": [
        "# 第2～4列目を最小-最大正規化する\n",
        "cols_to_normalize = df_target.columns[1:4]"
      ]
    },
    {
      "cell_type": "code",
      "execution_count": null,
      "metadata": {
        "id": "I77vECF9U2F6"
      },
      "outputs": [],
      "source": [
        "# Convert the columns to numeric, coercing errors to NaN\n",
        "for col in cols_to_normalize:\n",
        "    df_target[col] = pd.to_numeric(df_target[col], errors='coerce')\n",
        "\n",
        "# Fill NaN values if necessary\n",
        "df_target[cols_to_normalize] = df_target[cols_to_normalize].fillna(0)  # Replace 0 with an appropriate fill value\n",
        "\n",
        "# Perform the normalization\n",
        "df_target[cols_to_normalize] = (df_target[cols_to_normalize] - df_target[cols_to_normalize].min()) / (df_target[cols_to_normalize].max() - df_target[cols_to_normalize].min())"
      ]
    },
    {
      "cell_type": "code",
      "execution_count": null,
      "metadata": {
        "id": "qqKzaEIAVKiL"
      },
      "outputs": [],
      "source": [
        "b, a = butter(2, 0.05)"
      ]
    },
    {
      "cell_type": "code",
      "execution_count": null,
      "metadata": {
        "id": "u8j7jr2iVZgG"
      },
      "outputs": [],
      "source": [
        "import pandas as pd\n",
        "from scipy.signal import butter, filtfilt\n",
        "\n",
        "# Assuming 'df_target' is your DataFrame from previous steps...\n",
        "\n",
        "b, a = butter(2, 0.05)\n",
        "\n",
        "# Apply the filter to the normalized columns\n",
        "df_target[cols_to_normalize] = filtfilt(b, a, df_target[cols_to_normalize], axis=0)"
      ]
    },
    {
      "cell_type": "code",
      "execution_count": null,
      "metadata": {
        "id": "rQn0cHUmW825"
      },
      "outputs": [],
      "source": [
        "# 正規化とフィルタ適用後のデータを表示\n",
        "import pandas as pd\n",
        "from scipy.signal import butter, filtfilt"
      ]
    },
    {
      "cell_type": "code",
      "execution_count": null,
      "metadata": {
        "colab": {
          "base_uri": "https://localhost:8080/",
          "height": 206
        },
        "id": "iFzlG4MWeOwp",
        "outputId": "492a963c-a98a-4a61-e34c-af7c4303da25"
      },
      "outputs": [
        {
          "output_type": "execute_result",
          "data": {
            "text/plain": [
              "   »i¼  CXØdZTi£®j  CXØdZTi£®j.1  \\\n",
              "10      2                      0.483061                        0.547031   \n",
              "11      3                      0.485232                        0.547928   \n",
              "12      4                      0.487350                        0.548722   \n",
              "13      5                      0.489386                        0.549439   \n",
              "14      6                      0.491313                        0.550106   \n",
              "\n",
              "    CXØdZTi£®j.2  Unnamed: 4  \n",
              "10                        0.467386         NaN  \n",
              "11                        0.482366         NaN  \n",
              "12                        0.497036         NaN  \n",
              "13                        0.511383         NaN  \n",
              "14                        0.525456         NaN  "
            ],
            "text/html": [
              "\n",
              "  <div id=\"df-6db3ba4f-79ac-42d2-bb6e-a733d8da07c9\" class=\"colab-df-container\">\n",
              "    <div>\n",
              "<style scoped>\n",
              "    .dataframe tbody tr th:only-of-type {\n",
              "        vertical-align: middle;\n",
              "    }\n",
              "\n",
              "    .dataframe tbody tr th {\n",
              "        vertical-align: top;\n",
              "    }\n",
              "\n",
              "    .dataframe thead th {\n",
              "        text-align: right;\n",
              "    }\n",
              "</style>\n",
              "<table border=\"1\" class=\"dataframe\">\n",
              "  <thead>\n",
              "    <tr style=\"text-align: right;\">\n",
              "      <th></th>\n",
              "      <th>»i¼</th>\n",
              "      <th>CXØdZTi£®j</th>\n",
              "      <th>CXØdZTi£®j.1</th>\n",
              "      <th>CXØdZTi£®j.2</th>\n",
              "      <th>Unnamed: 4</th>\n",
              "    </tr>\n",
              "  </thead>\n",
              "  <tbody>\n",
              "    <tr>\n",
              "      <th>10</th>\n",
              "      <td>2</td>\n",
              "      <td>0.483061</td>\n",
              "      <td>0.547031</td>\n",
              "      <td>0.467386</td>\n",
              "      <td>NaN</td>\n",
              "    </tr>\n",
              "    <tr>\n",
              "      <th>11</th>\n",
              "      <td>3</td>\n",
              "      <td>0.485232</td>\n",
              "      <td>0.547928</td>\n",
              "      <td>0.482366</td>\n",
              "      <td>NaN</td>\n",
              "    </tr>\n",
              "    <tr>\n",
              "      <th>12</th>\n",
              "      <td>4</td>\n",
              "      <td>0.487350</td>\n",
              "      <td>0.548722</td>\n",
              "      <td>0.497036</td>\n",
              "      <td>NaN</td>\n",
              "    </tr>\n",
              "    <tr>\n",
              "      <th>13</th>\n",
              "      <td>5</td>\n",
              "      <td>0.489386</td>\n",
              "      <td>0.549439</td>\n",
              "      <td>0.511383</td>\n",
              "      <td>NaN</td>\n",
              "    </tr>\n",
              "    <tr>\n",
              "      <th>14</th>\n",
              "      <td>6</td>\n",
              "      <td>0.491313</td>\n",
              "      <td>0.550106</td>\n",
              "      <td>0.525456</td>\n",
              "      <td>NaN</td>\n",
              "    </tr>\n",
              "  </tbody>\n",
              "</table>\n",
              "</div>\n",
              "    <div class=\"colab-df-buttons\">\n",
              "\n",
              "  <div class=\"colab-df-container\">\n",
              "    <button class=\"colab-df-convert\" onclick=\"convertToInteractive('df-6db3ba4f-79ac-42d2-bb6e-a733d8da07c9')\"\n",
              "            title=\"Convert this dataframe to an interactive table.\"\n",
              "            style=\"display:none;\">\n",
              "\n",
              "  <svg xmlns=\"http://www.w3.org/2000/svg\" height=\"24px\" viewBox=\"0 -960 960 960\">\n",
              "    <path d=\"M120-120v-720h720v720H120Zm60-500h600v-160H180v160Zm220 220h160v-160H400v160Zm0 220h160v-160H400v160ZM180-400h160v-160H180v160Zm440 0h160v-160H620v160ZM180-180h160v-160H180v160Zm440 0h160v-160H620v160Z\"/>\n",
              "  </svg>\n",
              "    </button>\n",
              "\n",
              "  <style>\n",
              "    .colab-df-container {\n",
              "      display:flex;\n",
              "      gap: 12px;\n",
              "    }\n",
              "\n",
              "    .colab-df-convert {\n",
              "      background-color: #E8F0FE;\n",
              "      border: none;\n",
              "      border-radius: 50%;\n",
              "      cursor: pointer;\n",
              "      display: none;\n",
              "      fill: #1967D2;\n",
              "      height: 32px;\n",
              "      padding: 0 0 0 0;\n",
              "      width: 32px;\n",
              "    }\n",
              "\n",
              "    .colab-df-convert:hover {\n",
              "      background-color: #E2EBFA;\n",
              "      box-shadow: 0px 1px 2px rgba(60, 64, 67, 0.3), 0px 1px 3px 1px rgba(60, 64, 67, 0.15);\n",
              "      fill: #174EA6;\n",
              "    }\n",
              "\n",
              "    .colab-df-buttons div {\n",
              "      margin-bottom: 4px;\n",
              "    }\n",
              "\n",
              "    [theme=dark] .colab-df-convert {\n",
              "      background-color: #3B4455;\n",
              "      fill: #D2E3FC;\n",
              "    }\n",
              "\n",
              "    [theme=dark] .colab-df-convert:hover {\n",
              "      background-color: #434B5C;\n",
              "      box-shadow: 0px 1px 3px 1px rgba(0, 0, 0, 0.15);\n",
              "      filter: drop-shadow(0px 1px 2px rgba(0, 0, 0, 0.3));\n",
              "      fill: #FFFFFF;\n",
              "    }\n",
              "  </style>\n",
              "\n",
              "    <script>\n",
              "      const buttonEl =\n",
              "        document.querySelector('#df-6db3ba4f-79ac-42d2-bb6e-a733d8da07c9 button.colab-df-convert');\n",
              "      buttonEl.style.display =\n",
              "        google.colab.kernel.accessAllowed ? 'block' : 'none';\n",
              "\n",
              "      async function convertToInteractive(key) {\n",
              "        const element = document.querySelector('#df-6db3ba4f-79ac-42d2-bb6e-a733d8da07c9');\n",
              "        const dataTable =\n",
              "          await google.colab.kernel.invokeFunction('convertToInteractive',\n",
              "                                                    [key], {});\n",
              "        if (!dataTable) return;\n",
              "\n",
              "        const docLinkHtml = 'Like what you see? Visit the ' +\n",
              "          '<a target=\"_blank\" href=https://colab.research.google.com/notebooks/data_table.ipynb>data table notebook</a>'\n",
              "          + ' to learn more about interactive tables.';\n",
              "        element.innerHTML = '';\n",
              "        dataTable['output_type'] = 'display_data';\n",
              "        await google.colab.output.renderOutput(dataTable, element);\n",
              "        const docLink = document.createElement('div');\n",
              "        docLink.innerHTML = docLinkHtml;\n",
              "        element.appendChild(docLink);\n",
              "      }\n",
              "    </script>\n",
              "  </div>\n",
              "\n",
              "\n",
              "<div id=\"df-fdb5c956-ed41-4457-85fe-a601d5ad6ad5\">\n",
              "  <button class=\"colab-df-quickchart\" onclick=\"quickchart('df-fdb5c956-ed41-4457-85fe-a601d5ad6ad5')\"\n",
              "            title=\"Suggest charts\"\n",
              "            style=\"display:none;\">\n",
              "\n",
              "<svg xmlns=\"http://www.w3.org/2000/svg\" height=\"24px\"viewBox=\"0 0 24 24\"\n",
              "     width=\"24px\">\n",
              "    <g>\n",
              "        <path d=\"M19 3H5c-1.1 0-2 .9-2 2v14c0 1.1.9 2 2 2h14c1.1 0 2-.9 2-2V5c0-1.1-.9-2-2-2zM9 17H7v-7h2v7zm4 0h-2V7h2v10zm4 0h-2v-4h2v4z\"/>\n",
              "    </g>\n",
              "</svg>\n",
              "  </button>\n",
              "\n",
              "<style>\n",
              "  .colab-df-quickchart {\n",
              "      --bg-color: #E8F0FE;\n",
              "      --fill-color: #1967D2;\n",
              "      --hover-bg-color: #E2EBFA;\n",
              "      --hover-fill-color: #174EA6;\n",
              "      --disabled-fill-color: #AAA;\n",
              "      --disabled-bg-color: #DDD;\n",
              "  }\n",
              "\n",
              "  [theme=dark] .colab-df-quickchart {\n",
              "      --bg-color: #3B4455;\n",
              "      --fill-color: #D2E3FC;\n",
              "      --hover-bg-color: #434B5C;\n",
              "      --hover-fill-color: #FFFFFF;\n",
              "      --disabled-bg-color: #3B4455;\n",
              "      --disabled-fill-color: #666;\n",
              "  }\n",
              "\n",
              "  .colab-df-quickchart {\n",
              "    background-color: var(--bg-color);\n",
              "    border: none;\n",
              "    border-radius: 50%;\n",
              "    cursor: pointer;\n",
              "    display: none;\n",
              "    fill: var(--fill-color);\n",
              "    height: 32px;\n",
              "    padding: 0;\n",
              "    width: 32px;\n",
              "  }\n",
              "\n",
              "  .colab-df-quickchart:hover {\n",
              "    background-color: var(--hover-bg-color);\n",
              "    box-shadow: 0 1px 2px rgba(60, 64, 67, 0.3), 0 1px 3px 1px rgba(60, 64, 67, 0.15);\n",
              "    fill: var(--button-hover-fill-color);\n",
              "  }\n",
              "\n",
              "  .colab-df-quickchart-complete:disabled,\n",
              "  .colab-df-quickchart-complete:disabled:hover {\n",
              "    background-color: var(--disabled-bg-color);\n",
              "    fill: var(--disabled-fill-color);\n",
              "    box-shadow: none;\n",
              "  }\n",
              "\n",
              "  .colab-df-spinner {\n",
              "    border: 2px solid var(--fill-color);\n",
              "    border-color: transparent;\n",
              "    border-bottom-color: var(--fill-color);\n",
              "    animation:\n",
              "      spin 1s steps(1) infinite;\n",
              "  }\n",
              "\n",
              "  @keyframes spin {\n",
              "    0% {\n",
              "      border-color: transparent;\n",
              "      border-bottom-color: var(--fill-color);\n",
              "      border-left-color: var(--fill-color);\n",
              "    }\n",
              "    20% {\n",
              "      border-color: transparent;\n",
              "      border-left-color: var(--fill-color);\n",
              "      border-top-color: var(--fill-color);\n",
              "    }\n",
              "    30% {\n",
              "      border-color: transparent;\n",
              "      border-left-color: var(--fill-color);\n",
              "      border-top-color: var(--fill-color);\n",
              "      border-right-color: var(--fill-color);\n",
              "    }\n",
              "    40% {\n",
              "      border-color: transparent;\n",
              "      border-right-color: var(--fill-color);\n",
              "      border-top-color: var(--fill-color);\n",
              "    }\n",
              "    60% {\n",
              "      border-color: transparent;\n",
              "      border-right-color: var(--fill-color);\n",
              "    }\n",
              "    80% {\n",
              "      border-color: transparent;\n",
              "      border-right-color: var(--fill-color);\n",
              "      border-bottom-color: var(--fill-color);\n",
              "    }\n",
              "    90% {\n",
              "      border-color: transparent;\n",
              "      border-bottom-color: var(--fill-color);\n",
              "    }\n",
              "  }\n",
              "</style>\n",
              "\n",
              "  <script>\n",
              "    async function quickchart(key) {\n",
              "      const quickchartButtonEl =\n",
              "        document.querySelector('#' + key + ' button');\n",
              "      quickchartButtonEl.disabled = true;  // To prevent multiple clicks.\n",
              "      quickchartButtonEl.classList.add('colab-df-spinner');\n",
              "      try {\n",
              "        const charts = await google.colab.kernel.invokeFunction(\n",
              "            'suggestCharts', [key], {});\n",
              "      } catch (error) {\n",
              "        console.error('Error during call to suggestCharts:', error);\n",
              "      }\n",
              "      quickchartButtonEl.classList.remove('colab-df-spinner');\n",
              "      quickchartButtonEl.classList.add('colab-df-quickchart-complete');\n",
              "    }\n",
              "    (() => {\n",
              "      let quickchartButtonEl =\n",
              "        document.querySelector('#df-fdb5c956-ed41-4457-85fe-a601d5ad6ad5 button');\n",
              "      quickchartButtonEl.style.display =\n",
              "        google.colab.kernel.accessAllowed ? 'block' : 'none';\n",
              "    })();\n",
              "  </script>\n",
              "</div>\n",
              "\n",
              "    </div>\n",
              "  </div>\n"
            ],
            "application/vnd.google.colaboratory.intrinsic+json": {
              "type": "dataframe",
              "variable_name": "df_target",
              "summary": "{\n  \"name\": \"df_target\",\n  \"rows\": 6053,\n  \"fields\": [\n    {\n      \"column\": \"\\u0090\\u00bb\\u0095i\\u0096\\u00bc\",\n      \"properties\": {\n        \"dtype\": \"string\",\n        \"num_unique_values\": 6053,\n        \"samples\": [\n          \"3082\",\n          \"4743\",\n          \"3521\"\n        ],\n        \"semantic_type\": \"\",\n        \"description\": \"\"\n      }\n    },\n    {\n      \"column\": \"\\u0083\\u008f\\u0083C\\u0083\\u0084\\u0083\\u008c\\u0083X\\u008b\\u00d8\\u0093d\\u0083Z\\u0083\\u0093\\u0083T\\u0081i\\u008a\\u00a3\\u008e\\u00ae\\u0081j\",\n      \"properties\": {\n        \"dtype\": \"number\",\n        \"std\": 0.019862804910918984,\n        \"min\": 0.45458335546152034,\n        \"max\": 0.6173002220942716,\n        \"num_unique_values\": 6053,\n        \"samples\": [\n          0.5028196891366278,\n          0.5033361315428331,\n          0.47082028340524473\n        ],\n        \"semantic_type\": \"\",\n        \"description\": \"\"\n      }\n    },\n    {\n      \"column\": \"\\u0083\\u008f\\u0083C\\u0083\\u0084\\u0083\\u008c\\u0083X\\u008b\\u00d8\\u0093d\\u0083Z\\u0083\\u0093\\u0083T\\u0081i\\u008a\\u00a3\\u008e\\u00ae\\u0081j.1\",\n      \"properties\": {\n        \"dtype\": \"number\",\n        \"std\": 0.04537086641229384,\n        \"min\": 0.3354044656397367,\n        \"max\": 0.7637046454591407,\n        \"num_unique_values\": 6053,\n        \"samples\": [\n          0.5316960904865725,\n          0.5496769900792309,\n          0.5441561779663189\n        ],\n        \"semantic_type\": \"\",\n        \"description\": \"\"\n      }\n    },\n    {\n      \"column\": \"\\u0083\\u008f\\u0083C\\u0083\\u0084\\u0083\\u008c\\u0083X\\u008b\\u00d8\\u0093d\\u0083Z\\u0083\\u0093\\u0083T\\u0081i\\u008a\\u00a3\\u008e\\u00ae\\u0081j.2\",\n      \"properties\": {\n        \"dtype\": \"number\",\n        \"std\": 0.15839911025437495,\n        \"min\": -0.01336416723204576,\n        \"max\": 1.0167082053296885,\n        \"num_unique_values\": 6053,\n        \"samples\": [\n          0.6842882411107547,\n          0.6592372213235349,\n          0.4347743821991357\n        ],\n        \"semantic_type\": \"\",\n        \"description\": \"\"\n      }\n    },\n    {\n      \"column\": \"Unnamed: 4\",\n      \"properties\": {\n        \"dtype\": \"number\",\n        \"std\": null,\n        \"min\": null,\n        \"max\": null,\n        \"num_unique_values\": 0,\n        \"samples\": [],\n        \"semantic_type\": \"\",\n        \"description\": \"\"\n      }\n    }\n  ]\n}"
            }
          },
          "metadata": {},
          "execution_count": 96
        }
      ],
      "source": [
        "# 正規化とフィルタ適用後のデータを確認\n",
        "df_target.head()"
      ]
    },
    {
      "cell_type": "code",
      "source": [
        "# prompt: 上のデータをcsvファイルで出力して\n",
        "\n",
        "# CSVファイルとして保存\n",
        "df_target.to_csv('0617Eafter.csv', index=False)\n"
      ],
      "metadata": {
        "id": "rhITj0tgjOwX"
      },
      "execution_count": null,
      "outputs": []
    },
    {
      "cell_type": "code",
      "source": [
        "# prompt: csvファイルをダウンロードしたい\n",
        "\n",
        "from google.colab import files\n",
        "files.download('0617Eafter.csv')\n"
      ],
      "metadata": {
        "colab": {
          "base_uri": "https://localhost:8080/",
          "height": 34
        },
        "id": "Fca1QU7nj4yJ",
        "outputId": "2c3b7382-94d9-4ec7-cbc4-812f3983ad98"
      },
      "execution_count": null,
      "outputs": [
        {
          "output_type": "display_data",
          "data": {
            "text/plain": [
              "<IPython.core.display.Javascript object>"
            ],
            "application/javascript": [
              "\n",
              "    async function download(id, filename, size) {\n",
              "      if (!google.colab.kernel.accessAllowed) {\n",
              "        return;\n",
              "      }\n",
              "      const div = document.createElement('div');\n",
              "      const label = document.createElement('label');\n",
              "      label.textContent = `Downloading \"${filename}\": `;\n",
              "      div.appendChild(label);\n",
              "      const progress = document.createElement('progress');\n",
              "      progress.max = size;\n",
              "      div.appendChild(progress);\n",
              "      document.body.appendChild(div);\n",
              "\n",
              "      const buffers = [];\n",
              "      let downloaded = 0;\n",
              "\n",
              "      const channel = await google.colab.kernel.comms.open(id);\n",
              "      // Send a message to notify the kernel that we're ready.\n",
              "      channel.send({})\n",
              "\n",
              "      for await (const message of channel.messages) {\n",
              "        // Send a message to notify the kernel that we're ready.\n",
              "        channel.send({})\n",
              "        if (message.buffers) {\n",
              "          for (const buffer of message.buffers) {\n",
              "            buffers.push(buffer);\n",
              "            downloaded += buffer.byteLength;\n",
              "            progress.value = downloaded;\n",
              "          }\n",
              "        }\n",
              "      }\n",
              "      const blob = new Blob(buffers, {type: 'application/binary'});\n",
              "      const a = document.createElement('a');\n",
              "      a.href = window.URL.createObjectURL(blob);\n",
              "      a.download = filename;\n",
              "      div.appendChild(a);\n",
              "      a.click();\n",
              "      div.remove();\n",
              "    }\n",
              "  "
            ]
          },
          "metadata": {}
        },
        {
          "output_type": "display_data",
          "data": {
            "text/plain": [
              "<IPython.core.display.Javascript object>"
            ],
            "application/javascript": [
              "download(\"download_6891b1b0-bcad-4847-97c3-6e901b5d9f47\", \"0617Eafter.csv\", 380087)"
            ]
          },
          "metadata": {}
        }
      ]
    }
  ],
  "metadata": {
    "colab": {
      "provenance": []
    },
    "kernelspec": {
      "display_name": "Python 3",
      "name": "python3"
    },
    "language_info": {
      "name": "python"
    }
  },
  "nbformat": 4,
  "nbformat_minor": 0
}