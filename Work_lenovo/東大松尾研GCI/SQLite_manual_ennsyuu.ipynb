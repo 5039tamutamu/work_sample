{
  "cells": [
    {
      "cell_type": "markdown",
      "metadata": {
        "id": "8K7bS4iD-qzh"
      },
      "source": [
        "# CSVファイル出力マニュアル ( terminal )"
      ]
    },
    {
      "cell_type": "markdown",
      "metadata": {
        "id": "1LRzlL14Dby-"
      },
      "source": [
        "**このノートブックは，SQLiteがダウウンロード・インストールされていることを前提としています．**  \n",
        "「sqlite3.exe」の置かれているディレクトリで，コマンドプロンプト(windows)やターミナル(Mac)を起動して，以下のコードを参考に実行してください．"
      ]
    },
    {
      "cell_type": "markdown",
      "metadata": {
        "id": "oaZt9EuifkSb"
      },
      "source": [
        "## 1. データベースへの接続"
      ]
    },
    {
      "cell_type": "markdown",
      "metadata": {
        "id": "elat5KrMW_er"
      },
      "source": [
        "ここでは「trial.sqlite3」というファイルにデータベース情報が全て格納されているとします．  \n",
        "まず，以下のようにしてデータベースに接続します．\n"
      ]
    },
    {
      "cell_type": "code",
      "execution_count": null,
      "metadata": {
        "id": "DDUffaKffOEg"
      },
      "outputs": [],
      "source": [
        "sqlite3 trial.sqlite3"
      ]
    },
    {
      "cell_type": "markdown",
      "metadata": {
        "id": "Xw3Dby7XcBSN"
      },
      "source": [
        "これで，データベースへの接続は完了です．  \n",
        "※データベースが存在しない場合は，新規作成された上で接続されます．"
      ]
    },
    {
      "cell_type": "markdown",
      "metadata": {
        "id": "WEqARvzzIxfU"
      },
      "source": [
        "## 2. csvデータのインポート"
      ]
    },
    {
      "cell_type": "markdown",
      "metadata": {
        "id": "K2UR1TDWKSXO"
      },
      "source": [
        "csvデータを読み込み，テーブルを作成する"
      ]
    },
    {
      "cell_type": "code",
      "execution_count": null,
      "metadata": {
        "id": "KzQ5A60JIxC1"
      },
      "outputs": [],
      "source": [
        ".import data.csv <任意のテーブル名>"
      ]
    },
    {
      "cell_type": "markdown",
      "metadata": {
        "id": "NXEoBRWOgaMG"
      },
      "source": [
        "## 3. データベースの観察"
      ]
    },
    {
      "cell_type": "markdown",
      "metadata": {
        "id": "n-eXZArZEKqG"
      },
      "source": [
        "データベースに接続すると、テーブルに対して様々な操作が可能となります。  \n",
        "ここでは、データの出力に必要となるデータベースの情報，特にテーブル構造について確認します．  \n",
        "データの抽出や加工については，SQL回の講義資料等を参照ください．"
      ]
    },
    {
      "cell_type": "markdown",
      "metadata": {
        "id": "j1H1ZkjHhO-F"
      },
      "source": [
        "テーブル名の確認"
      ]
    },
    {
      "cell_type": "code",
      "execution_count": null,
      "metadata": {
        "id": "ipOl5DH2fOAT"
      },
      "outputs": [],
      "source": [
        ".tables"
      ]
    },
    {
      "cell_type": "markdown",
      "metadata": {
        "id": "pFIvKonDc4gm"
      },
      "source": [
        "カラム名の確認"
      ]
    },
    {
      "cell_type": "code",
      "execution_count": null,
      "metadata": {
        "id": "ZxKYUY-Ic9SI"
      },
      "outputs": [],
      "source": [
        ".schema <テーブル名>"
      ]
    },
    {
      "cell_type": "markdown",
      "metadata": {
        "id": "9-Q6W5YUdC5x"
      },
      "source": [
        "sqlite_masterから全情報の取得 (type, name, tbl_name, rootpage, sql)"
      ]
    },
    {
      "cell_type": "code",
      "execution_count": null,
      "metadata": {
        "id": "OyA6IiL5dGoI"
      },
      "outputs": [],
      "source": [
        "select * from sqlite_master;"
      ]
    },
    {
      "cell_type": "markdown",
      "metadata": {
        "id": "xNuTXbCxdMmL"
      },
      "source": [
        "## 4. csvデータのエクスポート"
      ]
    },
    {
      "cell_type": "markdown",
      "metadata": {
        "id": "oIyVyYlChTCN"
      },
      "source": [
        "ヘッダーを表示する"
      ]
    },
    {
      "cell_type": "code",
      "execution_count": null,
      "metadata": {
        "id": "Mvl0qOqNfN8a"
      },
      "outputs": [],
      "source": [
        ".headers ON"
      ]
    },
    {
      "cell_type": "markdown",
      "metadata": {
        "id": "DOTA8lkBhnkV"
      },
      "source": [
        "csvにした際にカンマ区切りにする"
      ]
    },
    {
      "cell_type": "code",
      "execution_count": null,
      "metadata": {
        "id": "ZtISI_KnfN4c"
      },
      "outputs": [],
      "source": [
        ".mode csv"
      ]
    },
    {
      "cell_type": "markdown",
      "metadata": {
        "id": "DhUheKfbhuHD"
      },
      "source": [
        "csvファイルを出力先に設定する ( [out] は任意のファイル名)"
      ]
    },
    {
      "cell_type": "code",
      "execution_count": null,
      "metadata": {
        "id": "WwzsVjC4fNzg"
      },
      "outputs": [],
      "source": [
        ".output out.csv"
      ]
    },
    {
      "cell_type": "markdown",
      "metadata": {
        "id": "kXFLoFhndpbi"
      },
      "source": [
        "取得したいデータを選択"
      ]
    },
    {
      "cell_type": "code",
      "execution_count": null,
      "metadata": {
        "id": "f_uo48bFdpOU"
      },
      "outputs": [],
      "source": [
        "#テーブルから特定の列を出力\n",
        "select <カラム名> from <テーブル名>;"
      ]
    },
    {
      "cell_type": "code",
      "execution_count": null,
      "metadata": {
        "id": "h0DY8JADfNsX"
      },
      "outputs": [],
      "source": [
        "#テーブルから全ての列を出力\n",
        "select * from <テーブル名>;"
      ]
    },
    {
      "cell_type": "markdown",
      "metadata": {
        "id": "cC7hVTeoipp5"
      },
      "source": [
        "出力されたcsvファイルが確認出来たら，SQLiteを終了します．"
      ]
    },
    {
      "cell_type": "code",
      "execution_count": null,
      "metadata": {
        "id": "iPcsFL11gpKd"
      },
      "outputs": [],
      "source": [
        ".exit"
      ]
    }
  ],
  "metadata": {
    "colab": {
      "provenance": []
    },
    "kernelspec": {
      "display_name": "Python 3",
      "name": "python3"
    },
    "language_info": {
      "name": "python"
    }
  },
  "nbformat": 4,
  "nbformat_minor": 0
}
