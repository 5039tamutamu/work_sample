{
  "cells": [
    {
      "cell_type": "markdown",
      "metadata": {
        "id": "8K7bS4iD-qzh"
      },
      "source": [
        "# CSVファイル出力マニュアル ( python )"
      ]
    },
    {
      "cell_type": "markdown",
      "metadata": {
        "id": "oaZt9EuifkSb"
      },
      "source": [
        "## 1. データベースへの接続"
      ]
    },
    {
      "cell_type": "markdown",
      "metadata": {
        "id": "7CGl6uw4NR7G"
      },
      "source": [
        "はじめに，sqlite3の実行とcsv出力に必要なモジュールをインポートします．  \n",
        "Pythonには標準でSQLiteがインストールされています．"
      ]
    },
    {
      "cell_type": "code",
      "execution_count": null,
      "metadata": {
        "id": "yptFgCGpkZ5b"
      },
      "outputs": [],
      "source": [
        "import sqlite3\n",
        "import csv"
      ]
    },
    {
      "cell_type": "markdown",
      "metadata": {
        "id": "1LRzlL14Dby-"
      },
      "source": [
        "今回，データベースの情報は「trial.sqlite3」というファイルに全て格納されているとします．  \n",
        "( 実際は，配布されたデータベースファイルのファイル名に改めて実行してください．)"
      ]
    },
    {
      "cell_type": "markdown",
      "metadata": {
        "id": "RtgrTEea0rAx"
      },
      "source": [
        "まず，以下のようにしてデータベースに接続します．"
      ]
    },
    {
      "cell_type": "code",
      "execution_count": null,
      "metadata": {
        "cellView": "code",
        "colab": {
          "base_uri": "https://localhost:8080/"
        },
        "id": "NPTyHR139t3L",
        "outputId": "2314fe25-325e-43ba-ec34-25d6ba4c7b85"
      },
      "outputs": [
        {
          "name": "stdout",
          "output_type": "stream",
          "text": [
            "Mounted at /content/drive\n"
          ]
        }
      ],
      "source": [
        "# Google Colaboratoryで作業する場合に実行してください．  \n",
        "# データの読み込み方が不明な場合は，別途配布している「GoogleColabにおけるドライブのマウントの仕方」と「Google Drive上でのフォルダ構造の説明」のpdfファイルをご覧ください．\n",
        "from google.colab import drive\n",
        "drive.mount('/content/drive')"
      ]
    },
    {
      "cell_type": "code",
      "execution_count": null,
      "metadata": {
        "id": "DDUffaKffOEg"
      },
      "outputs": [],
      "source": [
        "# データベースファイルのパスを渡してください\n",
        "dbpath = '/content/drive/---/---/data.sqlite3'"
      ]
    },
    {
      "cell_type": "code",
      "execution_count": null,
      "metadata": {
        "id": "LsLATIcwkpx4"
      },
      "outputs": [],
      "source": [
        "conn = sqlite3.connect(dbpath)"
      ]
    },
    {
      "cell_type": "markdown",
      "metadata": {
        "id": "Xw3Dby7XcBSN"
      },
      "source": [
        "これで，データベースへの接続は完了です．  \n",
        "※データベースが存在しない場合は，新規作成された上で接続されます．"
      ]
    },
    {
      "cell_type": "markdown",
      "metadata": {
        "id": "NXEoBRWOgaMG"
      },
      "source": [
        "## 2. データベースの観察"
      ]
    },
    {
      "cell_type": "markdown",
      "metadata": {
        "id": "e0DN5ryKNouw"
      },
      "source": [
        "続いて，カーソルの取得をします．このモジュールでは，カーソルをイテレータとして扱います．  \n",
        "カーソルを取得後にexecuteメソッドを用いると，SELECT文を実行することができます．"
      ]
    },
    {
      "cell_type": "code",
      "execution_count": null,
      "metadata": {
        "id": "MHqsS2RfP9ng"
      },
      "outputs": [],
      "source": [
        "cur = conn.cursor()"
      ]
    },
    {
      "cell_type": "markdown",
      "metadata": {
        "id": "n-eXZArZEKqG"
      },
      "source": [
        "ここでは、データの出力に必要となるデータベースの情報，特にテーブル構造について確認します．  \n",
        "データの抽出や加工については，SQL回の講義資料等を参照ください．"
      ]
    },
    {
      "cell_type": "code",
      "execution_count": null,
      "metadata": {
        "id": "4vvcCTjICr6Q"
      },
      "outputs": [],
      "source": [
        "# テーブル名の確認\n",
        "cur.execute('select name from sqlite_master where type = \"table\"')\n",
        "for row in cur.fetchall():\n",
        "  print(row)"
      ]
    },
    {
      "cell_type": "code",
      "execution_count": null,
      "metadata": {
        "id": "Mw766Eo0Bndn"
      },
      "outputs": [],
      "source": [
        "# カラム名(CREATE TABLE文)の確認\n",
        "cur.execute('select sql from sqlite_master where type = \"table\"')\n",
        "for row in cur.fetchall():\n",
        "  print(row)"
      ]
    },
    {
      "cell_type": "code",
      "execution_count": null,
      "metadata": {
        "id": "iPPoX9lRBmlB"
      },
      "outputs": [],
      "source": [
        "# 全情報の確認 (type, name, tbl_name, rootpage, sql)\n",
        "cur.execute('select * from sqlite_master where type = \"table\"')\n",
        "for row in cur.fetchall():\n",
        "  print(row)"
      ]
    },
    {
      "cell_type": "markdown",
      "metadata": {
        "id": "xNuTXbCxdMmL"
      },
      "source": [
        "## 3. データの出力 (csv形式)"
      ]
    },
    {
      "cell_type": "markdown",
      "metadata": {
        "id": "FY1WpVSTSv-f"
      },
      "source": [
        "fetchoneメソッドで1件ずつ取得する場合"
      ]
    },
    {
      "cell_type": "code",
      "execution_count": null,
      "metadata": {
        "id": "BJVK0M6eSity"
      },
      "outputs": [],
      "source": [
        "cur.execute('select * from <テーブル名>')\n",
        "print(cur.fetchone()) #1レコード目の取得\n",
        "print(cur.fetchone()) #2レコード目の取得"
      ]
    },
    {
      "cell_type": "markdown",
      "metadata": {
        "id": "bpHGul6ZSjUW"
      },
      "source": [
        "fetchallメソッドで全件を取得する場合 ※実行時間が長いことがあります"
      ]
    },
    {
      "cell_type": "code",
      "execution_count": null,
      "metadata": {
        "id": "Jy8FRft6Si4x"
      },
      "outputs": [],
      "source": [
        "cur.execute('select * from <テーブル名>')\n",
        "for row in cur.fetchall():\n",
        "  print(row)"
      ]
    },
    {
      "cell_type": "markdown",
      "metadata": {
        "id": "niQvvxlVGsqI"
      },
      "source": [
        "csv出力 ( [out] は任意のファイル名)"
      ]
    },
    {
      "cell_type": "code",
      "execution_count": null,
      "metadata": {
        "id": "QXVpREP721_E"
      },
      "outputs": [],
      "source": [
        "#テーブルから特定の列を取得\n",
        "cur.execute('select <カラム名> from <テーブル名>')\n",
        "with open('out.csv', 'w', newline='') as csvfile:\n",
        "  csv_writer = csv.writer(csvfile)\n",
        "  csv_writer.writerow([i[0] for i in cur.description])\n",
        "  csv_writer.writerows(cur)"
      ]
    },
    {
      "cell_type": "code",
      "execution_count": null,
      "metadata": {
        "id": "gpa55D0CGsEK"
      },
      "outputs": [],
      "source": [
        "#テーブルから全ての列を取得\n",
        "cur.execute('select * from <テーブル名>')\n",
        "with open('out.csv', 'w', newline='') as csvfile:\n",
        "  csv_writer = csv.writer(csvfile)\n",
        "  csv_writer.writerow([i[0] for i in cur.description])\n",
        "  csv_writer.writerows(cur)"
      ]
    },
    {
      "cell_type": "code",
      "execution_count": null,
      "metadata": {
        "id": "KPOBViTdGr0X"
      },
      "outputs": [],
      "source": [
        "# 処理を確定\n",
        "conn.commit()"
      ]
    },
    {
      "cell_type": "markdown",
      "metadata": {
        "id": "cC7hVTeoipp5"
      },
      "source": [
        "左サイドバーのFilesに「out.csv」が出力されていることを確認してください．  \n",
        "出力されたcsvファイルが確認出来たら，カーソルを閉じ，接続を閉じます．"
      ]
    },
    {
      "cell_type": "code",
      "execution_count": null,
      "metadata": {
        "id": "mY7dCHJpQ7gZ"
      },
      "outputs": [],
      "source": [
        "cur.close()"
      ]
    },
    {
      "cell_type": "code",
      "execution_count": null,
      "metadata": {
        "id": "iPcsFL11gpKd"
      },
      "outputs": [],
      "source": [
        "conn.close()"
      ]
    },
    {
      "cell_type": "markdown",
      "metadata": {
        "id": "HYYgm25cEh49"
      },
      "source": [
        "## 【補足】出力の確認"
      ]
    },
    {
      "cell_type": "code",
      "execution_count": null,
      "metadata": {
        "id": "IozCOG8rZXlX"
      },
      "outputs": [],
      "source": [
        "import pandas as pd"
      ]
    },
    {
      "cell_type": "code",
      "execution_count": null,
      "metadata": {
        "id": "JaiKQkLcZceb"
      },
      "outputs": [],
      "source": [
        "pd.read_csv('out.csv', sep=',')"
      ]
    },
    {
      "cell_type": "markdown",
      "metadata": {
        "id": "mjeqIKFhaBbs"
      },
      "source": [
        "以上で，ライブラリを用いたcsv出力は完了です．"
      ]
    }
  ],
  "metadata": {
    "colab": {
      "collapsed_sections": [
        "rmFKqF_Cg1Hd"
      ],
      "provenance": []
    },
    "kernelspec": {
      "display_name": "Python 3",
      "name": "python3"
    },
    "language_info": {
      "name": "python"
    }
  },
  "nbformat": 4,
  "nbformat_minor": 0
}
